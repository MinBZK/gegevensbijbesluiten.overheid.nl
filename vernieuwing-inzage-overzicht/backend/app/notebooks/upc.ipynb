{
 "cells": [],
 "metadata": {
  "kernelspec": {
   "display_name": "dummy_application-GAAeQM7o-py3.11",
   "language": "python",
   "name": "python3"
  },
  "language_info": {
   "codemirror_mode": {
    "name": "ipython",
    "version": 3
   },
   "file_extension": ".py",
   "mimetype": "text/x-python",
   "name": "python",
   "nbconvert_exporter": "python",
   "pygments_lexer": "ipython3",
   "version": "3.11.0rc1"
  },
  "orig_nbformat": 4,
  "vscode": {
   "interpreter": {
    "hash": "de0699b89400bd95064d46a1f1b32da387c075255c1ca76023ae43ab4712bc92"
   }
  }
 },
 "nbformat": 4,
 "nbformat_minor": 2
}
